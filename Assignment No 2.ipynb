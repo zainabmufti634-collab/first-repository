{
 "cells": [
  {
   "cell_type": "markdown",
   "id": "0e703a95-c0d3-4560-9dae-07f1caf085a7",
   "metadata": {},
   "source": [
    "## **ASSIGNMENT NO 2- DATA ANALYSIS REPORT**"
   ]
  },
  {
   "cell_type": "markdown",
   "id": "1febf589-5d36-488b-9379-248cf39adebd",
   "metadata": {},
   "source": [
    "##### **Submitted By: Zainab Mufti (FA23-BST-091)**"
   ]
  },
  {
   "cell_type": "markdown",
   "id": "f4497af5-52d2-4ae6-aedd-1a8c956a6360",
   "metadata": {},
   "source": [
    "##### **Submission Date:08-04-25**\n",
    "\n",
    "\n",
    "\n"
   ]
  },
  {
   "cell_type": "markdown",
   "id": "1aff63a6-a93d-43bc-ab36-0013980008c0",
   "metadata": {},
   "source": [
    "### **📁 1. Uploading the Dataset**"
   ]
  },
  {
   "cell_type": "markdown",
   "id": "bf0ae958-b56b-462b-9c90-d0269941495d",
   "metadata": {},
   "source": [
    "#### 📝 Objective"
   ]
  },
  {
   "cell_type": "markdown",
   "id": "e8d71690-d109-4086-80a9-075598fc61da",
   "metadata": {},
   "source": [
    "##### Starting up with the data analysis, initially the dataset is imported into the Jupyter Notebook, using python's (pandas) library"
   ]
  },
  {
   "cell_type": "code",
   "execution_count": 162,
   "id": "5a74aa31-0670-4bd1-8a07-7fb77f94914b",
   "metadata": {},
   "outputs": [],
   "source": [
    "import pandas as pd"
   ]
  },
  {
   "cell_type": "code",
   "execution_count": 168,
   "id": "dc0dd03e-b872-4e59-95e8-602aec01b14b",
   "metadata": {},
   "outputs": [],
   "source": [
    "# load up the dataset\n",
    "df=pd.read_csv(\"IBM Attrition Data.csv\")\n"
   ]
  },
  {
   "cell_type": "code",
   "execution_count": 181,
   "id": "6a561acf-19fe-467a-b040-a5fc93a1e798",
   "metadata": {},
   "outputs": [
    {
     "data": {
      "text/html": [
       "<div>\n",
       "<style scoped>\n",
       "    .dataframe tbody tr th:only-of-type {\n",
       "        vertical-align: middle;\n",
       "    }\n",
       "\n",
       "    .dataframe tbody tr th {\n",
       "        vertical-align: top;\n",
       "    }\n",
       "\n",
       "    .dataframe thead th {\n",
       "        text-align: right;\n",
       "    }\n",
       "</style>\n",
       "<table border=\"1\" class=\"dataframe\">\n",
       "  <thead>\n",
       "    <tr style=\"text-align: right;\">\n",
       "      <th></th>\n",
       "      <th>Age</th>\n",
       "      <th>Attrition</th>\n",
       "      <th>Department</th>\n",
       "      <th>DistanceFromHome</th>\n",
       "      <th>Education</th>\n",
       "      <th>EducationField</th>\n",
       "      <th>EnvironmentSatisfaction</th>\n",
       "      <th>JobSatisfaction</th>\n",
       "      <th>MaritalStatus</th>\n",
       "      <th>MonthlyIncome</th>\n",
       "      <th>NumCompaniesWorked</th>\n",
       "      <th>WorkLifeBalance</th>\n",
       "      <th>YearsAtCompany</th>\n",
       "    </tr>\n",
       "  </thead>\n",
       "  <tbody>\n",
       "    <tr>\n",
       "      <th>0</th>\n",
       "      <td>41</td>\n",
       "      <td>Yes</td>\n",
       "      <td>Sales</td>\n",
       "      <td>1</td>\n",
       "      <td>2</td>\n",
       "      <td>Life Sciences</td>\n",
       "      <td>2</td>\n",
       "      <td>4</td>\n",
       "      <td>Single</td>\n",
       "      <td>5993</td>\n",
       "      <td>8</td>\n",
       "      <td>1</td>\n",
       "      <td>6</td>\n",
       "    </tr>\n",
       "    <tr>\n",
       "      <th>1</th>\n",
       "      <td>49</td>\n",
       "      <td>No</td>\n",
       "      <td>Research &amp; Development</td>\n",
       "      <td>8</td>\n",
       "      <td>1</td>\n",
       "      <td>Life Sciences</td>\n",
       "      <td>3</td>\n",
       "      <td>2</td>\n",
       "      <td>Married</td>\n",
       "      <td>5130</td>\n",
       "      <td>1</td>\n",
       "      <td>3</td>\n",
       "      <td>10</td>\n",
       "    </tr>\n",
       "    <tr>\n",
       "      <th>2</th>\n",
       "      <td>37</td>\n",
       "      <td>Yes</td>\n",
       "      <td>Research &amp; Development</td>\n",
       "      <td>2</td>\n",
       "      <td>2</td>\n",
       "      <td>Other</td>\n",
       "      <td>4</td>\n",
       "      <td>3</td>\n",
       "      <td>Single</td>\n",
       "      <td>2090</td>\n",
       "      <td>6</td>\n",
       "      <td>3</td>\n",
       "      <td>0</td>\n",
       "    </tr>\n",
       "    <tr>\n",
       "      <th>3</th>\n",
       "      <td>33</td>\n",
       "      <td>No</td>\n",
       "      <td>Research &amp; Development</td>\n",
       "      <td>3</td>\n",
       "      <td>4</td>\n",
       "      <td>Life Sciences</td>\n",
       "      <td>4</td>\n",
       "      <td>3</td>\n",
       "      <td>Married</td>\n",
       "      <td>2909</td>\n",
       "      <td>1</td>\n",
       "      <td>3</td>\n",
       "      <td>8</td>\n",
       "    </tr>\n",
       "    <tr>\n",
       "      <th>4</th>\n",
       "      <td>27</td>\n",
       "      <td>No</td>\n",
       "      <td>Research &amp; Development</td>\n",
       "      <td>2</td>\n",
       "      <td>1</td>\n",
       "      <td>Medical</td>\n",
       "      <td>1</td>\n",
       "      <td>2</td>\n",
       "      <td>Married</td>\n",
       "      <td>3468</td>\n",
       "      <td>9</td>\n",
       "      <td>3</td>\n",
       "      <td>2</td>\n",
       "    </tr>\n",
       "    <tr>\n",
       "      <th>5</th>\n",
       "      <td>32</td>\n",
       "      <td>No</td>\n",
       "      <td>Research &amp; Development</td>\n",
       "      <td>2</td>\n",
       "      <td>2</td>\n",
       "      <td>Life Sciences</td>\n",
       "      <td>4</td>\n",
       "      <td>4</td>\n",
       "      <td>Single</td>\n",
       "      <td>3068</td>\n",
       "      <td>0</td>\n",
       "      <td>2</td>\n",
       "      <td>7</td>\n",
       "    </tr>\n",
       "    <tr>\n",
       "      <th>6</th>\n",
       "      <td>59</td>\n",
       "      <td>No</td>\n",
       "      <td>Research &amp; Development</td>\n",
       "      <td>3</td>\n",
       "      <td>3</td>\n",
       "      <td>Medical</td>\n",
       "      <td>3</td>\n",
       "      <td>1</td>\n",
       "      <td>Married</td>\n",
       "      <td>2670</td>\n",
       "      <td>4</td>\n",
       "      <td>2</td>\n",
       "      <td>1</td>\n",
       "    </tr>\n",
       "    <tr>\n",
       "      <th>7</th>\n",
       "      <td>30</td>\n",
       "      <td>No</td>\n",
       "      <td>Research &amp; Development</td>\n",
       "      <td>24</td>\n",
       "      <td>1</td>\n",
       "      <td>Life Sciences</td>\n",
       "      <td>4</td>\n",
       "      <td>3</td>\n",
       "      <td>Divorced</td>\n",
       "      <td>2693</td>\n",
       "      <td>1</td>\n",
       "      <td>3</td>\n",
       "      <td>1</td>\n",
       "    </tr>\n",
       "    <tr>\n",
       "      <th>8</th>\n",
       "      <td>38</td>\n",
       "      <td>No</td>\n",
       "      <td>Research &amp; Development</td>\n",
       "      <td>23</td>\n",
       "      <td>3</td>\n",
       "      <td>Life Sciences</td>\n",
       "      <td>4</td>\n",
       "      <td>3</td>\n",
       "      <td>Single</td>\n",
       "      <td>9526</td>\n",
       "      <td>0</td>\n",
       "      <td>3</td>\n",
       "      <td>9</td>\n",
       "    </tr>\n",
       "    <tr>\n",
       "      <th>9</th>\n",
       "      <td>36</td>\n",
       "      <td>No</td>\n",
       "      <td>Research &amp; Development</td>\n",
       "      <td>27</td>\n",
       "      <td>3</td>\n",
       "      <td>Medical</td>\n",
       "      <td>3</td>\n",
       "      <td>3</td>\n",
       "      <td>Married</td>\n",
       "      <td>5237</td>\n",
       "      <td>6</td>\n",
       "      <td>2</td>\n",
       "      <td>7</td>\n",
       "    </tr>\n",
       "  </tbody>\n",
       "</table>\n",
       "</div>"
      ],
      "text/plain": [
       "   Age Attrition              Department  DistanceFromHome  Education  \\\n",
       "0   41       Yes                   Sales                 1          2   \n",
       "1   49        No  Research & Development                 8          1   \n",
       "2   37       Yes  Research & Development                 2          2   \n",
       "3   33        No  Research & Development                 3          4   \n",
       "4   27        No  Research & Development                 2          1   \n",
       "5   32        No  Research & Development                 2          2   \n",
       "6   59        No  Research & Development                 3          3   \n",
       "7   30        No  Research & Development                24          1   \n",
       "8   38        No  Research & Development                23          3   \n",
       "9   36        No  Research & Development                27          3   \n",
       "\n",
       "  EducationField  EnvironmentSatisfaction  JobSatisfaction MaritalStatus  \\\n",
       "0  Life Sciences                        2                4        Single   \n",
       "1  Life Sciences                        3                2       Married   \n",
       "2          Other                        4                3        Single   \n",
       "3  Life Sciences                        4                3       Married   \n",
       "4        Medical                        1                2       Married   \n",
       "5  Life Sciences                        4                4        Single   \n",
       "6        Medical                        3                1       Married   \n",
       "7  Life Sciences                        4                3      Divorced   \n",
       "8  Life Sciences                        4                3        Single   \n",
       "9        Medical                        3                3       Married   \n",
       "\n",
       "   MonthlyIncome  NumCompaniesWorked  WorkLifeBalance  YearsAtCompany  \n",
       "0           5993                   8                1               6  \n",
       "1           5130                   1                3              10  \n",
       "2           2090                   6                3               0  \n",
       "3           2909                   1                3               8  \n",
       "4           3468                   9                3               2  \n",
       "5           3068                   0                2               7  \n",
       "6           2670                   4                2               1  \n",
       "7           2693                   1                3               1  \n",
       "8           9526                   0                3               9  \n",
       "9           5237                   6                2               7  "
      ]
     },
     "execution_count": 181,
     "metadata": {},
     "output_type": "execute_result"
    }
   ],
   "source": [
    "df.head(10)"
   ]
  },
  {
   "cell_type": "markdown",
   "id": "06ae289a-f400-4090-bd7e-8065f14ff571",
   "metadata": {},
   "source": [
    "\n",
    "### **🔧 2. Handling the Dataset**"
   ]
  },
  {
   "cell_type": "markdown",
   "id": "2f1ff501-e7ce-470a-8048-6faf2853f840",
   "metadata": {},
   "source": [
    "#### 🧾 Exploring Data Structure"
   ]
  },
  {
   "cell_type": "markdown",
   "id": "90f7983b-7da6-4bd1-ad3f-9fc1f26352c8",
   "metadata": {},
   "source": [
    "#### **📋 Displaying First Five Rows:**\n",
    "\n"
   ]
  },
  {
   "cell_type": "code",
   "execution_count": 36,
   "id": "5018a271-938d-4b66-b9c0-8c5d3b0a1f4b",
   "metadata": {},
   "outputs": [
    {
     "data": {
      "text/html": [
       "<div>\n",
       "<style scoped>\n",
       "    .dataframe tbody tr th:only-of-type {\n",
       "        vertical-align: middle;\n",
       "    }\n",
       "\n",
       "    .dataframe tbody tr th {\n",
       "        vertical-align: top;\n",
       "    }\n",
       "\n",
       "    .dataframe thead th {\n",
       "        text-align: right;\n",
       "    }\n",
       "</style>\n",
       "<table border=\"1\" class=\"dataframe\">\n",
       "  <thead>\n",
       "    <tr style=\"text-align: right;\">\n",
       "      <th></th>\n",
       "      <th>Age</th>\n",
       "      <th>Attrition</th>\n",
       "      <th>Department</th>\n",
       "      <th>DistanceFromHome</th>\n",
       "      <th>Education</th>\n",
       "      <th>EducationField</th>\n",
       "      <th>EnvironmentSatisfaction</th>\n",
       "      <th>JobSatisfaction</th>\n",
       "      <th>MaritalStatus</th>\n",
       "      <th>MonthlyIncome</th>\n",
       "      <th>NumCompaniesWorked</th>\n",
       "      <th>WorkLifeBalance</th>\n",
       "      <th>YearsAtCompany</th>\n",
       "    </tr>\n",
       "  </thead>\n",
       "  <tbody>\n",
       "    <tr>\n",
       "      <th>0</th>\n",
       "      <td>41</td>\n",
       "      <td>Yes</td>\n",
       "      <td>Sales</td>\n",
       "      <td>1</td>\n",
       "      <td>2</td>\n",
       "      <td>Life Sciences</td>\n",
       "      <td>2</td>\n",
       "      <td>4</td>\n",
       "      <td>Single</td>\n",
       "      <td>5993</td>\n",
       "      <td>8</td>\n",
       "      <td>1</td>\n",
       "      <td>6</td>\n",
       "    </tr>\n",
       "    <tr>\n",
       "      <th>1</th>\n",
       "      <td>49</td>\n",
       "      <td>No</td>\n",
       "      <td>Research &amp; Development</td>\n",
       "      <td>8</td>\n",
       "      <td>1</td>\n",
       "      <td>Life Sciences</td>\n",
       "      <td>3</td>\n",
       "      <td>2</td>\n",
       "      <td>Married</td>\n",
       "      <td>5130</td>\n",
       "      <td>1</td>\n",
       "      <td>3</td>\n",
       "      <td>10</td>\n",
       "    </tr>\n",
       "    <tr>\n",
       "      <th>2</th>\n",
       "      <td>37</td>\n",
       "      <td>Yes</td>\n",
       "      <td>Research &amp; Development</td>\n",
       "      <td>2</td>\n",
       "      <td>2</td>\n",
       "      <td>Other</td>\n",
       "      <td>4</td>\n",
       "      <td>3</td>\n",
       "      <td>Single</td>\n",
       "      <td>2090</td>\n",
       "      <td>6</td>\n",
       "      <td>3</td>\n",
       "      <td>0</td>\n",
       "    </tr>\n",
       "    <tr>\n",
       "      <th>3</th>\n",
       "      <td>33</td>\n",
       "      <td>No</td>\n",
       "      <td>Research &amp; Development</td>\n",
       "      <td>3</td>\n",
       "      <td>4</td>\n",
       "      <td>Life Sciences</td>\n",
       "      <td>4</td>\n",
       "      <td>3</td>\n",
       "      <td>Married</td>\n",
       "      <td>2909</td>\n",
       "      <td>1</td>\n",
       "      <td>3</td>\n",
       "      <td>8</td>\n",
       "    </tr>\n",
       "    <tr>\n",
       "      <th>4</th>\n",
       "      <td>27</td>\n",
       "      <td>No</td>\n",
       "      <td>Research &amp; Development</td>\n",
       "      <td>2</td>\n",
       "      <td>1</td>\n",
       "      <td>Medical</td>\n",
       "      <td>1</td>\n",
       "      <td>2</td>\n",
       "      <td>Married</td>\n",
       "      <td>3468</td>\n",
       "      <td>9</td>\n",
       "      <td>3</td>\n",
       "      <td>2</td>\n",
       "    </tr>\n",
       "  </tbody>\n",
       "</table>\n",
       "</div>"
      ],
      "text/plain": [
       "   Age Attrition              Department  DistanceFromHome  Education  \\\n",
       "0   41       Yes                   Sales                 1          2   \n",
       "1   49        No  Research & Development                 8          1   \n",
       "2   37       Yes  Research & Development                 2          2   \n",
       "3   33        No  Research & Development                 3          4   \n",
       "4   27        No  Research & Development                 2          1   \n",
       "\n",
       "  EducationField  EnvironmentSatisfaction  JobSatisfaction MaritalStatus  \\\n",
       "0  Life Sciences                        2                4        Single   \n",
       "1  Life Sciences                        3                2       Married   \n",
       "2          Other                        4                3        Single   \n",
       "3  Life Sciences                        4                3       Married   \n",
       "4        Medical                        1                2       Married   \n",
       "\n",
       "   MonthlyIncome  NumCompaniesWorked  WorkLifeBalance  YearsAtCompany  \n",
       "0           5993                   8                1               6  \n",
       "1           5130                   1                3              10  \n",
       "2           2090                   6                3               0  \n",
       "3           2909                   1                3               8  \n",
       "4           3468                   9                3               2  "
      ]
     },
     "execution_count": 36,
     "metadata": {},
     "output_type": "execute_result"
    }
   ],
   "source": [
    "df.head()"
   ]
  },
  {
   "cell_type": "markdown",
   "id": "0fc897cb-2418-494f-8438-764c4095e4cf",
   "metadata": {},
   "source": [
    "#### **Explanation**"
   ]
  },
  {
   "cell_type": "markdown",
   "id": "646d8692-bd0b-46d9-a32d-0ff3ae01c53b",
   "metadata": {},
   "source": [
    "#### This command displays the first 5 rows of the dataset. It helps to quickly preview the data and check the initial entries."
   ]
  },
  {
   "cell_type": "markdown",
   "id": "f882e323-0f8a-47f0-89c2-b464a46c9706",
   "metadata": {},
   "source": [
    "#### 📋 Displaying Last Five Rows:"
   ]
  },
  {
   "cell_type": "code",
   "execution_count": 55,
   "id": "24a0cb75-ac06-42e1-bfb7-4ac7cd72827f",
   "metadata": {},
   "outputs": [
    {
     "data": {
      "text/html": [
       "<div>\n",
       "<style scoped>\n",
       "    .dataframe tbody tr th:only-of-type {\n",
       "        vertical-align: middle;\n",
       "    }\n",
       "\n",
       "    .dataframe tbody tr th {\n",
       "        vertical-align: top;\n",
       "    }\n",
       "\n",
       "    .dataframe thead th {\n",
       "        text-align: right;\n",
       "    }\n",
       "</style>\n",
       "<table border=\"1\" class=\"dataframe\">\n",
       "  <thead>\n",
       "    <tr style=\"text-align: right;\">\n",
       "      <th></th>\n",
       "      <th>Age</th>\n",
       "      <th>Attrition</th>\n",
       "      <th>Department</th>\n",
       "      <th>DistanceFromHome</th>\n",
       "      <th>Education</th>\n",
       "      <th>EducationField</th>\n",
       "      <th>EnvironmentSatisfaction</th>\n",
       "      <th>JobSatisfaction</th>\n",
       "      <th>MaritalStatus</th>\n",
       "      <th>MonthlyIncome</th>\n",
       "      <th>NumCompaniesWorked</th>\n",
       "      <th>WorkLifeBalance</th>\n",
       "      <th>YearsAtCompany</th>\n",
       "    </tr>\n",
       "  </thead>\n",
       "  <tbody>\n",
       "    <tr>\n",
       "      <th>1465</th>\n",
       "      <td>36</td>\n",
       "      <td>No</td>\n",
       "      <td>Research &amp; Development</td>\n",
       "      <td>23</td>\n",
       "      <td>2</td>\n",
       "      <td>Medical</td>\n",
       "      <td>3</td>\n",
       "      <td>4</td>\n",
       "      <td>Married</td>\n",
       "      <td>2571</td>\n",
       "      <td>4</td>\n",
       "      <td>3</td>\n",
       "      <td>5</td>\n",
       "    </tr>\n",
       "    <tr>\n",
       "      <th>1466</th>\n",
       "      <td>39</td>\n",
       "      <td>No</td>\n",
       "      <td>Research &amp; Development</td>\n",
       "      <td>6</td>\n",
       "      <td>1</td>\n",
       "      <td>Medical</td>\n",
       "      <td>4</td>\n",
       "      <td>1</td>\n",
       "      <td>Married</td>\n",
       "      <td>9991</td>\n",
       "      <td>4</td>\n",
       "      <td>3</td>\n",
       "      <td>7</td>\n",
       "    </tr>\n",
       "    <tr>\n",
       "      <th>1467</th>\n",
       "      <td>27</td>\n",
       "      <td>No</td>\n",
       "      <td>Research &amp; Development</td>\n",
       "      <td>4</td>\n",
       "      <td>3</td>\n",
       "      <td>Life Sciences</td>\n",
       "      <td>2</td>\n",
       "      <td>2</td>\n",
       "      <td>Married</td>\n",
       "      <td>6142</td>\n",
       "      <td>1</td>\n",
       "      <td>3</td>\n",
       "      <td>6</td>\n",
       "    </tr>\n",
       "    <tr>\n",
       "      <th>1468</th>\n",
       "      <td>49</td>\n",
       "      <td>No</td>\n",
       "      <td>Sales</td>\n",
       "      <td>2</td>\n",
       "      <td>3</td>\n",
       "      <td>Medical</td>\n",
       "      <td>4</td>\n",
       "      <td>2</td>\n",
       "      <td>Married</td>\n",
       "      <td>5390</td>\n",
       "      <td>2</td>\n",
       "      <td>2</td>\n",
       "      <td>9</td>\n",
       "    </tr>\n",
       "    <tr>\n",
       "      <th>1469</th>\n",
       "      <td>34</td>\n",
       "      <td>No</td>\n",
       "      <td>Research &amp; Development</td>\n",
       "      <td>8</td>\n",
       "      <td>3</td>\n",
       "      <td>Medical</td>\n",
       "      <td>2</td>\n",
       "      <td>3</td>\n",
       "      <td>Married</td>\n",
       "      <td>4404</td>\n",
       "      <td>2</td>\n",
       "      <td>4</td>\n",
       "      <td>4</td>\n",
       "    </tr>\n",
       "  </tbody>\n",
       "</table>\n",
       "</div>"
      ],
      "text/plain": [
       "      Age Attrition              Department  DistanceFromHome  Education  \\\n",
       "1465   36        No  Research & Development                23          2   \n",
       "1466   39        No  Research & Development                 6          1   \n",
       "1467   27        No  Research & Development                 4          3   \n",
       "1468   49        No                   Sales                 2          3   \n",
       "1469   34        No  Research & Development                 8          3   \n",
       "\n",
       "     EducationField  EnvironmentSatisfaction  JobSatisfaction MaritalStatus  \\\n",
       "1465        Medical                        3                4       Married   \n",
       "1466        Medical                        4                1       Married   \n",
       "1467  Life Sciences                        2                2       Married   \n",
       "1468        Medical                        4                2       Married   \n",
       "1469        Medical                        2                3       Married   \n",
       "\n",
       "      MonthlyIncome  NumCompaniesWorked  WorkLifeBalance  YearsAtCompany  \n",
       "1465           2571                   4                3               5  \n",
       "1466           9991                   4                3               7  \n",
       "1467           6142                   1                3               6  \n",
       "1468           5390                   2                2               9  \n",
       "1469           4404                   2                4               4  "
      ]
     },
     "execution_count": 55,
     "metadata": {},
     "output_type": "execute_result"
    }
   ],
   "source": [
    "df.tail()"
   ]
  },
  {
   "cell_type": "markdown",
   "id": "646f9a31-6bf3-4388-ace4-2b50e68bab42",
   "metadata": {},
   "source": [
    "#### **Explanation**"
   ]
  },
  {
   "cell_type": "markdown",
   "id": "83507902-225d-443c-b22b-906f2c542df1",
   "metadata": {},
   "source": [
    "#### This command displays the last 5 rows of the dataset. It helps to quickly preview the data and check the last portion of the data."
   ]
  },
  {
   "cell_type": "markdown",
   "id": "6556ba2e-3efb-4171-a8a7-96df49d3ec45",
   "metadata": {},
   "source": [
    "#### 📋 Getting Shape of Data:"
   ]
  },
  {
   "cell_type": "code",
   "execution_count": 68,
   "id": "4b04f06e-1536-461c-80e5-4ccd662f1394",
   "metadata": {},
   "outputs": [
    {
     "data": {
      "text/plain": [
       "(1470, 13)"
      ]
     },
     "execution_count": 68,
     "metadata": {},
     "output_type": "execute_result"
    }
   ],
   "source": [
    "df.shape"
   ]
  },
  {
   "cell_type": "markdown",
   "id": "cfb0ac39-12e8-470f-9691-19ec52aed6f3",
   "metadata": {},
   "source": [
    "#### **Explanation**"
   ]
  },
  {
   "cell_type": "markdown",
   "id": "d3a38da4-fc35-44e0-9154-b5df2db3041c",
   "metadata": {},
   "source": [
    "#### The .shape command returns the number of rows and columns in the dataset. It gives a quick overview of the dataset’s size."
   ]
  },
  {
   "cell_type": "markdown",
   "id": "b5995e83-e11f-405e-bbc4-9764f4a72e41",
   "metadata": {},
   "source": [
    "#### 📋 Listing Column Names:"
   ]
  },
  {
   "cell_type": "code",
   "execution_count": 78,
   "id": "40b0efad-5e97-4798-9935-78be45fa5482",
   "metadata": {},
   "outputs": [
    {
     "data": {
      "text/plain": [
       "Index(['Age', 'Attrition', 'Department', 'DistanceFromHome', 'Education',\n",
       "       'EducationField', 'EnvironmentSatisfaction', 'JobSatisfaction',\n",
       "       'MaritalStatus', 'MonthlyIncome', 'NumCompaniesWorked',\n",
       "       'WorkLifeBalance', 'YearsAtCompany'],\n",
       "      dtype='object')"
      ]
     },
     "execution_count": 78,
     "metadata": {},
     "output_type": "execute_result"
    }
   ],
   "source": [
    "df.columns"
   ]
  },
  {
   "cell_type": "markdown",
   "id": "49893b44-5b5d-476c-8154-6c1c87946240",
   "metadata": {},
   "source": [
    "#### **Explanation**"
   ]
  },
  {
   "cell_type": "markdown",
   "id": "73126295-f92e-441d-a9fe-d98da320ef2c",
   "metadata": {},
   "source": [
    "#### This command lists all the column names in the dataset. It helps you understand the structure of the dataset."
   ]
  },
  {
   "cell_type": "markdown",
   "id": "1ec78fe4-bc69-4cca-8218-73989370ec89",
   "metadata": {},
   "source": [
    "#### 📋 Viewing Row Index: "
   ]
  },
  {
   "cell_type": "code",
   "execution_count": 88,
   "id": "417d1666-2988-4042-b256-120f4eabc278",
   "metadata": {},
   "outputs": [
    {
     "data": {
      "text/plain": [
       "RangeIndex(start=0, stop=1470, step=1)"
      ]
     },
     "execution_count": 88,
     "metadata": {},
     "output_type": "execute_result"
    }
   ],
   "source": [
    "df.index"
   ]
  },
  {
   "cell_type": "markdown",
   "id": "036427ad-383d-44ee-9cdb-2a708c2dc328",
   "metadata": {},
   "source": [
    "#### **Explanation**"
   ]
  },
  {
   "cell_type": "markdown",
   "id": "bdcd50bf-693c-4c06-a221-0b685e81bf02",
   "metadata": {},
   "source": [
    "#### The .index command shows the row labels in the dataset. It provides an insight into how the rows are labeled or indexed."
   ]
  },
  {
   "cell_type": "markdown",
   "id": "349917db-e5bb-4ee6-88c8-ef1bb63c57d5",
   "metadata": {},
   "source": [
    "#### 📋 Checking Data Types: "
   ]
  },
  {
   "cell_type": "code",
   "execution_count": 96,
   "id": "a7b29c4e-5107-4d3a-9a40-e36c2ecf7dc9",
   "metadata": {},
   "outputs": [
    {
     "data": {
      "text/plain": [
       "Age                         int64\n",
       "Attrition                  object\n",
       "Department                 object\n",
       "DistanceFromHome            int64\n",
       "Education                   int64\n",
       "EducationField             object\n",
       "EnvironmentSatisfaction     int64\n",
       "JobSatisfaction             int64\n",
       "MaritalStatus              object\n",
       "MonthlyIncome               int64\n",
       "NumCompaniesWorked          int64\n",
       "WorkLifeBalance             int64\n",
       "YearsAtCompany              int64\n",
       "dtype: object"
      ]
     },
     "execution_count": 96,
     "metadata": {},
     "output_type": "execute_result"
    }
   ],
   "source": [
    "df.dtypes"
   ]
  },
  {
   "cell_type": "markdown",
   "id": "1ae4c4bd-2b43-4a4c-98a6-522ac07bb419",
   "metadata": {},
   "source": [
    "#### **Explanation**"
   ]
  },
  {
   "cell_type": "markdown",
   "id": "cd7c9067-0fbf-465b-9dd2-b64c24f94133",
   "metadata": {},
   "source": [
    "#### The .dtypes command shows the data type of each column. It helps ensure that the data types are correct for further analysis"
   ]
  },
  {
   "cell_type": "markdown",
   "id": "33507fa8-82d7-4bcd-a624-e4b63f56da31",
   "metadata": {},
   "source": [
    "#### 📋 Check for Missing Values"
   ]
  },
  {
   "cell_type": "code",
   "execution_count": 252,
   "id": "549bb752-f78e-43ae-a744-63b64520bd3e",
   "metadata": {},
   "outputs": [
    {
     "data": {
      "text/plain": [
       "Age                        0\n",
       "Attrition                  0\n",
       "Department                 0\n",
       "DistanceFromHome           0\n",
       "Education                  0\n",
       "EducationField             0\n",
       "EnvironmentSatisfaction    0\n",
       "JobSatisfaction            0\n",
       "MaritalStatus              0\n",
       "MonthlyIncome              0\n",
       "NumCompaniesWorked         0\n",
       "WorkLifeBalance            0\n",
       "YearsAtCompany             0\n",
       "age                        0\n",
       "dtype: int64"
      ]
     },
     "execution_count": 252,
     "metadata": {},
     "output_type": "execute_result"
    }
   ],
   "source": [
    "df.isnull().sum() # checks any missing values in the dataframe"
   ]
  },
  {
   "cell_type": "markdown",
   "id": "30857672-8897-4de4-8f51-25110443743c",
   "metadata": {},
   "source": [
    "#### 📋 A concise overview of Data:"
   ]
  },
  {
   "cell_type": "code",
   "execution_count": 104,
   "id": "c3e5ac26-b848-4680-b515-af4da197263e",
   "metadata": {},
   "outputs": [
    {
     "name": "stdout",
     "output_type": "stream",
     "text": [
      "<class 'pandas.core.frame.DataFrame'>\n",
      "RangeIndex: 1470 entries, 0 to 1469\n",
      "Data columns (total 13 columns):\n",
      " #   Column                   Non-Null Count  Dtype \n",
      "---  ------                   --------------  ----- \n",
      " 0   Age                      1470 non-null   int64 \n",
      " 1   Attrition                1470 non-null   object\n",
      " 2   Department               1470 non-null   object\n",
      " 3   DistanceFromHome         1470 non-null   int64 \n",
      " 4   Education                1470 non-null   int64 \n",
      " 5   EducationField           1470 non-null   object\n",
      " 6   EnvironmentSatisfaction  1470 non-null   int64 \n",
      " 7   JobSatisfaction          1470 non-null   int64 \n",
      " 8   MaritalStatus            1470 non-null   object\n",
      " 9   MonthlyIncome            1470 non-null   int64 \n",
      " 10  NumCompaniesWorked       1470 non-null   int64 \n",
      " 11  WorkLifeBalance          1470 non-null   int64 \n",
      " 12  YearsAtCompany           1470 non-null   int64 \n",
      "dtypes: int64(9), object(4)\n",
      "memory usage: 149.4+ KB\n"
     ]
    }
   ],
   "source": [
    "df.info()"
   ]
  },
  {
   "cell_type": "markdown",
   "id": "1a7438f2-bf97-4ef3-ac45-93011076938b",
   "metadata": {},
   "source": [
    "#### **Explanation**"
   ]
  },
  {
   "cell_type": "markdown",
   "id": "b1d62132-6532-4968-bdf7-435a1b904e9f",
   "metadata": {},
   "source": [
    "##### - This is a pandas dataframe **(<class 'pandas.core.frame.DataFrame'>)**"
   ]
  },
  {
   "cell_type": "markdown",
   "id": "180bbd62-b88f-4e6f-ad06-4bf9e7588626",
   "metadata": {},
   "source": [
    "##### -The dataframe has **1470** rows and the index ranging from(0-1469) **(RangeIndex: 1470 entries, 0 to 1469)**"
   ]
  },
  {
   "cell_type": "markdown",
   "id": "a237fcc1-03db-4b09-85e9-c3a0d2bb8967",
   "metadata": {},
   "source": [
    "##### -The dataframe has **13 columns**,all columns have 1470 non-null values it means there are no missing values in the dataset **(Data columns,total 13 columns):**"
   ]
  },
  {
   "cell_type": "markdown",
   "id": "47dc9760-073b-4fd5-af79-77a0ec994f16",
   "metadata": {},
   "source": [
    "##### -The dataframe has different data types :\n",
    "##### int64(9 columns)\n",
    "##### object(4 columns)"
   ]
  },
  {
   "cell_type": "markdown",
   "id": "4f5adb9a-67a4-472a-ba4c-f682df820401",
   "metadata": {},
   "source": [
    "##### -Memory usage (149.4+ KB)\n",
    "##### The dataframe takes about **149,4 KB** of memory but the + indicates that actual value might be greater due to optimization in pandas "
   ]
  },
  {
   "cell_type": "markdown",
   "id": "00882de9-9eb9-4ddf-9fe1-9cf4b1dc9981",
   "metadata": {},
   "source": [
    "#### 📋 Statistical Summary: "
   ]
  },
  {
   "cell_type": "code",
   "execution_count": 128,
   "id": "972b6aa8-3360-44da-9f84-d8db79fd5bdf",
   "metadata": {},
   "outputs": [
    {
     "data": {
      "text/html": [
       "<div>\n",
       "<style scoped>\n",
       "    .dataframe tbody tr th:only-of-type {\n",
       "        vertical-align: middle;\n",
       "    }\n",
       "\n",
       "    .dataframe tbody tr th {\n",
       "        vertical-align: top;\n",
       "    }\n",
       "\n",
       "    .dataframe thead th {\n",
       "        text-align: right;\n",
       "    }\n",
       "</style>\n",
       "<table border=\"1\" class=\"dataframe\">\n",
       "  <thead>\n",
       "    <tr style=\"text-align: right;\">\n",
       "      <th></th>\n",
       "      <th>Age</th>\n",
       "      <th>DistanceFromHome</th>\n",
       "      <th>Education</th>\n",
       "      <th>EnvironmentSatisfaction</th>\n",
       "      <th>JobSatisfaction</th>\n",
       "      <th>MonthlyIncome</th>\n",
       "      <th>NumCompaniesWorked</th>\n",
       "      <th>WorkLifeBalance</th>\n",
       "      <th>YearsAtCompany</th>\n",
       "    </tr>\n",
       "  </thead>\n",
       "  <tbody>\n",
       "    <tr>\n",
       "      <th>count</th>\n",
       "      <td>1470.000000</td>\n",
       "      <td>1470.000000</td>\n",
       "      <td>1470.000000</td>\n",
       "      <td>1470.000000</td>\n",
       "      <td>1470.000000</td>\n",
       "      <td>1470.000000</td>\n",
       "      <td>1470.000000</td>\n",
       "      <td>1470.000000</td>\n",
       "      <td>1470.000000</td>\n",
       "    </tr>\n",
       "    <tr>\n",
       "      <th>mean</th>\n",
       "      <td>36.923810</td>\n",
       "      <td>9.192517</td>\n",
       "      <td>2.912925</td>\n",
       "      <td>2.721769</td>\n",
       "      <td>2.728571</td>\n",
       "      <td>6502.931293</td>\n",
       "      <td>2.693197</td>\n",
       "      <td>2.761224</td>\n",
       "      <td>7.008163</td>\n",
       "    </tr>\n",
       "    <tr>\n",
       "      <th>std</th>\n",
       "      <td>9.135373</td>\n",
       "      <td>8.106864</td>\n",
       "      <td>1.024165</td>\n",
       "      <td>1.093082</td>\n",
       "      <td>1.102846</td>\n",
       "      <td>4707.956783</td>\n",
       "      <td>2.498009</td>\n",
       "      <td>0.706476</td>\n",
       "      <td>6.126525</td>\n",
       "    </tr>\n",
       "    <tr>\n",
       "      <th>min</th>\n",
       "      <td>18.000000</td>\n",
       "      <td>1.000000</td>\n",
       "      <td>1.000000</td>\n",
       "      <td>1.000000</td>\n",
       "      <td>1.000000</td>\n",
       "      <td>1009.000000</td>\n",
       "      <td>0.000000</td>\n",
       "      <td>1.000000</td>\n",
       "      <td>0.000000</td>\n",
       "    </tr>\n",
       "    <tr>\n",
       "      <th>25%</th>\n",
       "      <td>30.000000</td>\n",
       "      <td>2.000000</td>\n",
       "      <td>2.000000</td>\n",
       "      <td>2.000000</td>\n",
       "      <td>2.000000</td>\n",
       "      <td>2911.000000</td>\n",
       "      <td>1.000000</td>\n",
       "      <td>2.000000</td>\n",
       "      <td>3.000000</td>\n",
       "    </tr>\n",
       "    <tr>\n",
       "      <th>50%</th>\n",
       "      <td>36.000000</td>\n",
       "      <td>7.000000</td>\n",
       "      <td>3.000000</td>\n",
       "      <td>3.000000</td>\n",
       "      <td>3.000000</td>\n",
       "      <td>4919.000000</td>\n",
       "      <td>2.000000</td>\n",
       "      <td>3.000000</td>\n",
       "      <td>5.000000</td>\n",
       "    </tr>\n",
       "    <tr>\n",
       "      <th>75%</th>\n",
       "      <td>43.000000</td>\n",
       "      <td>14.000000</td>\n",
       "      <td>4.000000</td>\n",
       "      <td>4.000000</td>\n",
       "      <td>4.000000</td>\n",
       "      <td>8379.000000</td>\n",
       "      <td>4.000000</td>\n",
       "      <td>3.000000</td>\n",
       "      <td>9.000000</td>\n",
       "    </tr>\n",
       "    <tr>\n",
       "      <th>max</th>\n",
       "      <td>60.000000</td>\n",
       "      <td>29.000000</td>\n",
       "      <td>5.000000</td>\n",
       "      <td>4.000000</td>\n",
       "      <td>4.000000</td>\n",
       "      <td>19999.000000</td>\n",
       "      <td>9.000000</td>\n",
       "      <td>4.000000</td>\n",
       "      <td>40.000000</td>\n",
       "    </tr>\n",
       "  </tbody>\n",
       "</table>\n",
       "</div>"
      ],
      "text/plain": [
       "               Age  DistanceFromHome    Education  EnvironmentSatisfaction  \\\n",
       "count  1470.000000       1470.000000  1470.000000              1470.000000   \n",
       "mean     36.923810          9.192517     2.912925                 2.721769   \n",
       "std       9.135373          8.106864     1.024165                 1.093082   \n",
       "min      18.000000          1.000000     1.000000                 1.000000   \n",
       "25%      30.000000          2.000000     2.000000                 2.000000   \n",
       "50%      36.000000          7.000000     3.000000                 3.000000   \n",
       "75%      43.000000         14.000000     4.000000                 4.000000   \n",
       "max      60.000000         29.000000     5.000000                 4.000000   \n",
       "\n",
       "       JobSatisfaction  MonthlyIncome  NumCompaniesWorked  WorkLifeBalance  \\\n",
       "count      1470.000000    1470.000000         1470.000000      1470.000000   \n",
       "mean          2.728571    6502.931293            2.693197         2.761224   \n",
       "std           1.102846    4707.956783            2.498009         0.706476   \n",
       "min           1.000000    1009.000000            0.000000         1.000000   \n",
       "25%           2.000000    2911.000000            1.000000         2.000000   \n",
       "50%           3.000000    4919.000000            2.000000         3.000000   \n",
       "75%           4.000000    8379.000000            4.000000         3.000000   \n",
       "max           4.000000   19999.000000            9.000000         4.000000   \n",
       "\n",
       "       YearsAtCompany  \n",
       "count     1470.000000  \n",
       "mean         7.008163  \n",
       "std          6.126525  \n",
       "min          0.000000  \n",
       "25%          3.000000  \n",
       "50%          5.000000  \n",
       "75%          9.000000  \n",
       "max         40.000000  "
      ]
     },
     "execution_count": 128,
     "metadata": {},
     "output_type": "execute_result"
    }
   ],
   "source": [
    "df.describe()"
   ]
  },
  {
   "cell_type": "markdown",
   "id": "8b7e98ee-5613-4ae3-b8fc-ee7851a79864",
   "metadata": {},
   "source": [
    "#### **Explanation**"
   ]
  },
  {
   "cell_type": "markdown",
   "id": "28ca9b74-41c2-4f79-99ae-b8cf7470f2e3",
   "metadata": {},
   "source": [
    "##### This command generates summary statistics for numerical columns, like mean, std, min, max, etc. It provides representation of the central tendency and spread of the data."
   ]
  },
  {
   "cell_type": "markdown",
   "id": "68d70d88-5f8b-490c-a2a1-f6eb46440169",
   "metadata": {},
   "source": [
    "#### 📋 Counting Occurrences of some Values in the dataset:"
   ]
  },
  {
   "cell_type": "code",
   "execution_count": 137,
   "id": "5b6be7c0-be48-4f77-ac3f-8438922e05e2",
   "metadata": {},
   "outputs": [
    {
     "data": {
      "text/plain": [
       "Age\n",
       "35    78\n",
       "34    77\n",
       "36    69\n",
       "31    69\n",
       "29    68\n",
       "32    61\n",
       "30    60\n",
       "33    58\n",
       "38    58\n",
       "40    57\n",
       "37    50\n",
       "27    48\n",
       "28    48\n",
       "42    46\n",
       "39    42\n",
       "45    41\n",
       "41    40\n",
       "26    39\n",
       "44    33\n",
       "46    33\n",
       "43    32\n",
       "50    30\n",
       "25    26\n",
       "24    26\n",
       "49    24\n",
       "47    24\n",
       "55    22\n",
       "51    19\n",
       "53    19\n",
       "48    19\n",
       "54    18\n",
       "52    18\n",
       "22    16\n",
       "56    14\n",
       "23    14\n",
       "58    14\n",
       "21    13\n",
       "20    11\n",
       "59    10\n",
       "19     9\n",
       "18     8\n",
       "60     5\n",
       "57     4\n",
       "Name: count, dtype: int64"
      ]
     },
     "execution_count": 137,
     "metadata": {},
     "output_type": "execute_result"
    }
   ],
   "source": [
    "df['Age'].value_counts() #it determines the occurance of each value in the 'age' column"
   ]
  },
  {
   "cell_type": "code",
   "execution_count": 143,
   "id": "26e0934e-8bcf-4a78-ba40-5baac801486f",
   "metadata": {},
   "outputs": [
    {
     "data": {
      "text/plain": [
       "MaritalStatus\n",
       "Married     673\n",
       "Single      470\n",
       "Divorced    327\n",
       "Name: count, dtype: int64"
      ]
     },
     "execution_count": 143,
     "metadata": {},
     "output_type": "execute_result"
    }
   ],
   "source": [
    "df['MaritalStatus'].value_counts() # occurance of each status in the dataframe"
   ]
  },
  {
   "cell_type": "markdown",
   "id": "fe93200f-75dd-471f-a077-6dc1e0ab391a",
   "metadata": {},
   "source": [
    "#### 📋Standardize / Normalize Data"
   ]
  },
  {
   "cell_type": "code",
   "execution_count": 48,
   "id": "a19d22dd-ec86-4649-9417-1eb656ae0ef8",
   "metadata": {},
   "outputs": [
    {
     "name": "stdout",
     "output_type": "stream",
     "text": [
      "           Age Attrition              Department  DistanceFromHome  Education  \\\n",
      "0     0.446350       Yes                   Sales                 1          2   \n",
      "1     1.322365        No  Research & Development                 8          1   \n",
      "2     0.008343       Yes  Research & Development                 2          2   \n",
      "3    -0.429664        No  Research & Development                 3          4   \n",
      "4    -1.086676        No  Research & Development                 2          1   \n",
      "...        ...       ...                     ...               ...        ...   \n",
      "1465 -0.101159        No  Research & Development                23          2   \n",
      "1466  0.227347        No  Research & Development                 6          1   \n",
      "1467 -1.086676        No  Research & Development                 4          3   \n",
      "1468  1.322365        No                   Sales                 2          3   \n",
      "1469 -0.320163        No  Research & Development                 8          3   \n",
      "\n",
      "     EducationField  EnvironmentSatisfaction  JobSatisfaction MaritalStatus  \\\n",
      "0     Life Sciences                        2                4        Single   \n",
      "1     Life Sciences                        3                2       Married   \n",
      "2             Other                        4                3        Single   \n",
      "3     Life Sciences                        4                3       Married   \n",
      "4           Medical                        1                2       Married   \n",
      "...             ...                      ...              ...           ...   \n",
      "1465        Medical                        3                4       Married   \n",
      "1466        Medical                        4                1       Married   \n",
      "1467  Life Sciences                        2                2       Married   \n",
      "1468        Medical                        4                2       Married   \n",
      "1469        Medical                        2                3       Married   \n",
      "\n",
      "      MonthlyIncome  NumCompaniesWorked  WorkLifeBalance  YearsAtCompany  \n",
      "0         -0.108350                   8                1               6  \n",
      "1         -0.291719                   1                3              10  \n",
      "2         -0.937654                   6                3               0  \n",
      "3         -0.763634                   1                3               8  \n",
      "4         -0.644858                   9                3               2  \n",
      "...             ...                 ...              ...             ...  \n",
      "1465      -0.835451                   4                3               5  \n",
      "1466       0.741140                   4                3               7  \n",
      "1467      -0.076690                   1                3               6  \n",
      "1468      -0.236474                   2                2               9  \n",
      "1469      -0.445978                   2                4               4  \n",
      "\n",
      "[1470 rows x 13 columns]\n"
     ]
    }
   ],
   "source": [
    "import pandas as pd\n",
    "df=pd.read_csv(\"IBM Attrition Data.csv\")\n",
    "from sklearn.preprocessing import StandardScaler, MinMaxScaler\n",
    "scaler = StandardScaler() \n",
    "df[['Age', 'MonthlyIncome']] = scaler.fit_transform(df[['Age', 'MonthlyIncome']])\n",
    "print(df)\n"
   ]
  },
  {
   "cell_type": "markdown",
   "id": "30916814-f82d-4fbc-a77c-8e715e944da7",
   "metadata": {},
   "source": [
    "### **🧬Handling missing values in the dataset**"
   ]
  },
  {
   "cell_type": "markdown",
   "id": "62e4faaf-2389-459a-9d3f-81823eba9255",
   "metadata": {},
   "source": [
    "### **💡Remove rows with missing values**"
   ]
  },
  {
   "cell_type": "code",
   "execution_count": 155,
   "id": "9d2050ee-c4a9-4a13-877a-f63ca542ba02",
   "metadata": {},
   "outputs": [],
   "source": [
    "df.dropna(inplace =True)"
   ]
  },
  {
   "cell_type": "markdown",
   "id": "c2f29632-33ea-4e7f-857c-6a1781de29f2",
   "metadata": {},
   "source": [
    "#### **Explanation**"
   ]
  },
  {
   "cell_type": "markdown",
   "id": "4f3d65ab-cf8e-4798-8cfd-f9c51b3bd4ba",
   "metadata": {},
   "source": [
    "##### If the dataframe has any missing values it will truncate that row "
   ]
  },
  {
   "cell_type": "markdown",
   "id": "51ae8d52-f1b3-47ef-86fb-bf611a5bce4f",
   "metadata": {},
   "source": [
    "### **💡Fill missing values with a strategy**"
   ]
  },
  {
   "cell_type": "code",
   "execution_count": 181,
   "id": "29299f4b-cd9e-4a47-a023-cb360986f79e",
   "metadata": {},
   "outputs": [],
   "source": [
    "df['Age']=df['Age'].fillna(df['Age'].mean()) #filling the missing values through the mean(traditional way)"
   ]
  },
  {
   "cell_type": "markdown",
   "id": "d2ddaa77-ce3f-4923-bc74-9fa6dc95cd6b",
   "metadata": {},
   "source": [
    "##### Directly modifies the existing DataFrame column, updating the original data."
   ]
  },
  {
   "cell_type": "markdown",
   "id": "8bbd74a8-6fab-4e64-ae7d-90b7c6c55fdc",
   "metadata": {},
   "source": [
    "#### **Explanation**"
   ]
  },
  {
   "cell_type": "markdown",
   "id": "247e24b9-6081-4a86-8776-51b07611cc77",
   "metadata": {},
   "source": [
    "##### This command replaces all missing values in the 'age' column with the mean (average) of that column.\n",
    "##### It helps to retain the data by filling gaps instead of deleting rows"
   ]
  },
  {
   "cell_type": "code",
   "execution_count": 179,
   "id": "f60e9652-1691-4e41-9609-a764283417be",
   "metadata": {},
   "outputs": [],
   "source": [
    "df['Age']=df['Age'].ffill() #filling the missing values through forwardfill"
   ]
  },
  {
   "cell_type": "markdown",
   "id": "d0ed3970-5c96-4276-ba60-996e25f3ede3",
   "metadata": {},
   "source": [
    "#### **Explanation**"
   ]
  },
  {
   "cell_type": "markdown",
   "id": "8e36a62d-ed77-474c-8ea1-9dd6db72acac",
   "metadata": {},
   "source": [
    "##### This command fills missing values in the 'Age' column by copying the value from the previous row (forward fill).\n",
    "##### It’s useful when data follows a sequential order"
   ]
  },
  {
   "cell_type": "markdown",
   "id": "e5bb1ac3-18ee-4b9e-a841-7ae67f5b44be",
   "metadata": {},
   "source": [
    "### **💡Use assign() for More Readability**"
   ]
  },
  {
   "cell_type": "markdown",
   "id": "10106515-e21c-4ee8-9ba1-a7f902d91ac9",
   "metadata": {},
   "source": [
    "##### Creates a new DataFrame with the updated column, leaving the original DataFrame unchanged unless reassigned."
   ]
  },
  {
   "cell_type": "markdown",
   "id": "36356a31-532e-4627-85ac-e97a1ea73ac1",
   "metadata": {},
   "source": [
    "##### **➕ Fill Missing Values with Mean:**"
   ]
  },
  {
   "cell_type": "code",
   "execution_count": 196,
   "id": "c3d76543-4c38-4ce8-90f9-e9dcb749bb16",
   "metadata": {},
   "outputs": [],
   "source": [
    "df = df.assign(age=df['Age'].fillna(df['Age'].mean()))"
   ]
  },
  {
   "cell_type": "markdown",
   "id": "47a853b8-3140-4a2d-9131-ac523008cf13",
   "metadata": {},
   "source": [
    "##### **🔄 Forward Fill Missing Values:**"
   ]
  },
  {
   "cell_type": "code",
   "execution_count": 203,
   "id": "789397ff-185c-4099-bea1-f985e6878422",
   "metadata": {},
   "outputs": [],
   "source": [
    "df = df.assign(age=df['Age'].ffill())"
   ]
  },
  {
   "cell_type": "markdown",
   "id": "a7c1ec41-13cd-454e-b1af-1ba3662a5e92",
   "metadata": {},
   "source": [
    "### **💡Modify Multiple Columns Efficiently**"
   ]
  },
  {
   "cell_type": "markdown",
   "id": "4c84eaf2-9b68-4ae7-a0f9-2270d729309b",
   "metadata": {},
   "source": [
    "##### **🛠️Fill Missing Values in Multiple Columns with Mean:**"
   ]
  },
  {
   "cell_type": "code",
   "execution_count": 210,
   "id": "8bfca94f-e39f-4d9c-b27e-5c7341ddfed0",
   "metadata": {},
   "outputs": [],
   "source": [
    "df[['Age', 'Education']] = df[['Age', 'Education']].fillna(df[['Age','Education']].mean())\n"
   ]
  },
  {
   "cell_type": "markdown",
   "id": "cb6456c7-7747-4baa-a098-9cd9403a8f28",
   "metadata": {},
   "source": [
    "#### **Explanation**"
   ]
  },
  {
   "cell_type": "markdown",
   "id": "e06d6f8f-0e38-45bf-926a-72776bb52ece",
   "metadata": {},
   "source": [
    "##### This command fills missing values in both the columns using the mean of the respective columns. It applies the filling operation to multiple columns at once, ensuring no missing data in the specified columns"
   ]
  },
  {
   "cell_type": "markdown",
   "id": "abeb013b-2fbf-4eac-ade2-8677695f27eb",
   "metadata": {},
   "source": [
    "##### **🔄 Forward Fill Missing Values in Multiple Columns:**"
   ]
  },
  {
   "cell_type": "code",
   "execution_count": 225,
   "id": "0a180d9c-70bf-4f5d-834e-45b3214e7fda",
   "metadata": {},
   "outputs": [],
   "source": [
    "df[['Age', 'Education']] = df[['Age', 'Education']].ffill()"
   ]
  },
  {
   "cell_type": "markdown",
   "id": "5342772d-7cef-4e01-a7ee-2e7927fe72d9",
   "metadata": {},
   "source": [
    "#### **Explanation**"
   ]
  },
  {
   "cell_type": "markdown",
   "id": "a667a3a1-a0ee-40c4-a25c-7977a09b050b",
   "metadata": {},
   "source": [
    "##### This command fills missing values in the columns by forward filling, it copies the value from the previous row to fill any missing values in both columns. It is applied to multiple columns simultaneously."
   ]
  },
  {
   "cell_type": "markdown",
   "id": "f8a75cd2-915b-4ab7-b1ba-ef3258b9e105",
   "metadata": {},
   "source": [
    "### **🔍if Condition to Check Column Existence and Missing Values?**"
   ]
  },
  {
   "cell_type": "markdown",
   "id": "1ae6a5b6-ac92-4eaf-b733-2d4606588668",
   "metadata": {},
   "source": [
    "##### **Ensuring Column Existence Before Applying .fillna() in DataFrame**"
   ]
  },
  {
   "cell_type": "code",
   "execution_count": 235,
   "id": "21e4d703-595d-4e2a-afb0-710d48d8a31f",
   "metadata": {},
   "outputs": [],
   "source": [
    "if 'MonthlyIncome' in df.columns:\n",
    "    df['MonthlyIncome'] = df['MonthlyIncome'].fillna(df['MonthlyIncome'].mean())\n",
    "    df['MonthlyIncome'] = df['MonthlyIncome'].ffill()\n",
    "else:\n",
    "    print(\"Column 'MonthlyIncome' not found!\")"
   ]
  },
  {
   "cell_type": "markdown",
   "id": "bb71aa5f-3259-4be7-8ea2-3aaa0960998f",
   "metadata": {},
   "source": [
    "##### The code first checks if the 'MonthlyIncome' column exists in the DataFrame. If it does, it fills missing values with the column's mean and then applies forward filling to handle any remaining missing values. If the column is not found, it prints an error message."
   ]
  },
  {
   "cell_type": "markdown",
   "id": "130c6bbf-c106-4549-aef9-e75196cd34b5",
   "metadata": {},
   "source": [
    "##### **Handling the data frame,If Dataset Has No Missing Values**"
   ]
  },
  {
   "cell_type": "code",
   "execution_count": 243,
   "id": "9fed9cc3-ba71-42ba-b808-37e0e49f6b86",
   "metadata": {},
   "outputs": [
    {
     "name": "stdout",
     "output_type": "stream",
     "text": [
      "No missing values in 'MonthlyIncome' column or column not found!\n"
     ]
    }
   ],
   "source": [
    "if 'MonthlyIncome' in df.columns and df['MonthlyIncome'].isnull().sum() > 0:\n",
    "    df['MonthlyIncome'] = df['MonthlyIncome'].fillna(df['MonthlyIncome'].mean())\n",
    "    df['MonthlyIncome'] = df['MonthlyIncome'].ffill()\n",
    "else:\n",
    "    print(\"No missing values in 'MonthlyIncome' column or column not found!\")"
   ]
  },
  {
   "cell_type": "markdown",
   "id": "b9820dd7-5105-4c82-a4d6-25cab7e6d3d7",
   "metadata": {},
   "source": [
    "### **🧬Checking duplicate values within the dataframe**"
   ]
  },
  {
   "cell_type": "code",
   "execution_count": 257,
   "id": "fb968b00-be0c-4ba5-8edb-f994ca59c811",
   "metadata": {},
   "outputs": [],
   "source": [
    "df.duplicated().sum() \n",
    "df.drop_duplicates(inplace=True)"
   ]
  },
  {
   "cell_type": "markdown",
   "id": "971c6349-5c93-4291-aa30-99234b63f99c",
   "metadata": {},
   "source": [
    "### **🧹 3. Data Cleaning Process**"
   ]
  },
  {
   "cell_type": "markdown",
   "id": "ab22d77d-0f7f-4527-b4d1-1b53a0801bfa",
   "metadata": {},
   "source": [
    "#### **i)-Loaded the Data:**"
   ]
  },
  {
   "cell_type": "markdown",
   "id": "e7c331c2-a622-4b04-aa13-139fd44cb333",
   "metadata": {},
   "source": [
    "##### Used pd.read_csv() to load the dataset and previewed the first few rows using df.head()"
   ]
  },
  {
   "cell_type": "markdown",
   "id": "b153d65a-884c-4c62-905b-0f857ed89c09",
   "metadata": {},
   "source": [
    "#### **ii)-Checked for Missing Values:**"
   ]
  },
  {
   "cell_type": "markdown",
   "id": "1de6ff85-d2f9-41b5-b030-62fca9cc5bd5",
   "metadata": {},
   "source": [
    "##### Identified columns with missing values using df.isnull().sum() and checked data types and non-null counts using df.info()."
   ]
  },
  {
   "cell_type": "markdown",
   "id": "a4600526-8765-463b-a1ad-187484cb799e",
   "metadata": {},
   "source": [
    "#### **iii)-Checked for Duplicates:**"
   ]
  },
  {
   "cell_type": "markdown",
   "id": "eb3ca70a-cb4d-4608-939a-a6563ab4742a",
   "metadata": {},
   "source": [
    "##### Checked for duplicates with df.duplicated().sum()"
   ]
  },
  {
   "cell_type": "markdown",
   "id": "30117439-2e6e-476b-9914-cbbe2d253443",
   "metadata": {},
   "source": [
    "#### **iv)-Standardized / Normalized Data:**"
   ]
  },
  {
   "cell_type": "markdown",
   "id": "d0f16b05-4746-4ef3-a64f-4894ecefe0ee",
   "metadata": {},
   "source": [
    "##### Standardized numerical columns using StandardScaler to ensure the data is on the same scale for analysis."
   ]
  },
  {
   "cell_type": "markdown",
   "id": "d94d3201-1ee7-4104-92d8-3bc129a7251f",
   "metadata": {},
   "source": [
    "### **4.🔍Exploratory Data Analysis**"
   ]
  },
  {
   "cell_type": "markdown",
   "id": "155d767b-0570-4266-94f0-687fa5369837",
   "metadata": {},
   "source": [
    "#### **Monthly Income Distribution**"
   ]
  },
  {
   "cell_type": "code",
   "execution_count": 299,
   "id": "85637c38-1386-41c8-a731-0e7aab69b17f",
   "metadata": {},
   "outputs": [
    {
     "data": {
      "text/plain": [
       "Text(0, 0.5, 'Count')"
      ]
     },
     "execution_count": 299,
     "metadata": {},
     "output_type": "execute_result"
    },
    {
     "data": {
      "image/png": "[encoded data removed]",
      "text/plain": [
       "<Figure size 640x480 with 1 Axes>"
      ]
     },
     "metadata": {},
     "output_type": "display_data"
    }
   ],
   "source": [
    "import matplotlib.pyplot as pt\n",
    "df['MonthlyIncome'].hist(bins=20,edgecolor='black')\n",
    "plt.title(\"Distribution of monthly income\")\n",
    "plt.xlabel(\"Monthlyincome\")\n",
    "plt.ylabel(\"Count\")"
   ]
  },
  {
   "cell_type": "markdown",
   "id": "602cd3f5-1576-412f-9e2b-267f1d07de93",
   "metadata": {},
   "source": [
    "#### **Explanation**"
   ]
  },
  {
   "cell_type": "markdown",
   "id": "998df8e6-ae95-4106-a26b-3b492586c433",
   "metadata": {},
   "source": [
    "##### The histogram above represents the distribution of monthly income within the dataset. Each bar indicates the frequency of individuals falling within specific income ranges (defined by the bins). The x-axis represents the income range, while the y-axis shows the count of individuals within each range."
   ]
  },
  {
   "cell_type": "markdown",
   "id": "fd4c3352-92d1-4460-bc10-66cb52beee1a",
   "metadata": {},
   "source": [
    "#### **Education Field Distribution by Marital Status**"
   ]
  },
  {
   "cell_type": "code",
   "execution_count": 92,
   "id": "ee29f08d-7831-475f-9ca2-92e5eafe689b",
   "metadata": {},
   "outputs": [
    {
     "data": {
      "text/plain": [
       "<Axes: xlabel='MaritalStatus'>"
      ]
     },
     "execution_count": 92,
     "metadata": {},
     "output_type": "execute_result"
    },
    {
     "data": {
      "image/png": "[encoded data removed]",
      "text/plain": [
       "<Figure size 700x600 with 1 Axes>"
      ]
     },
     "metadata": {},
     "output_type": "display_data"
    }
   ],
   "source": [
    "\n",
    "EducationField_by_MaritalStatus= df.groupby([\"MaritalStatus\",\"EducationField\"]).size().unstack()\n",
    "EducationField_by_MaritalStatus.plot(kind=\"bar\",stacked=True,figsize=(7,6))"
   ]
  },
  {
   "cell_type": "markdown",
   "id": "3fe9fcc6-c615-449b-97d9-6440db4b0e61",
   "metadata": {},
   "source": [
    "#### **Explanation**"
   ]
  },
  {
   "cell_type": "markdown",
   "id": "7ea9ebfb-9388-455e-80ae-3fe195380a93",
   "metadata": {},
   "source": [
    "##### The stacked bar chart above displays the distribution of individuals across different education fields, grouped by marital status. Each bar represents a marital status category, and the segments within the bars indicate the count of individuals belonging to each education field"
   ]
  },
  {
   "cell_type": "markdown",
   "id": "abb9ef42-3faa-4d93-bc46-9de5370206c0",
   "metadata": {},
   "source": [
    "#### **Age Distribution Plot**"
   ]
  },
  {
   "cell_type": "code",
   "execution_count": 322,
   "id": "21484b58-f95a-4601-91a0-64891613183c",
   "metadata": {},
   "outputs": [
    {
     "data": {
      "image/png": "[encoded data removed]",
      "text/plain": [
       "<Figure size 500x500 with 1 Axes>"
      ]
     },
     "metadata": {},
     "output_type": "display_data"
    }
   ],
   "source": [
    "import seaborn as sns\n",
    "import matplotlib.pyplot as plt\n",
    "\n",
    "# Distribution plot for 'Age'\n",
    "sns.displot(df['Age'])\n",
    "plt.title('Age Distribution')\n",
    "plt.show()\n"
   ]
  },
  {
   "cell_type": "markdown",
   "id": "1cf069e5-143c-4d53-adde-4cbfb0e7da0f",
   "metadata": {},
   "source": [
    "#### **Explanation**"
   ]
  },
  {
   "cell_type": "markdown",
   "id": "53e45964-c347-45e9-9916-34b30b9261fc",
   "metadata": {},
   "source": [
    "##### The above distribution plot shows the frequency distribution of the Age variable in the dataset. It helps visualize how the ages of individuals are spread across the population."
   ]
  },
  {
   "cell_type": "markdown",
   "id": "73c1d9e5-c5c0-4d94-8323-364834bffcc6",
   "metadata": {},
   "source": [
    "#### **Marital Status Breakdown**"
   ]
  },
  {
   "cell_type": "code",
   "execution_count": 104,
   "id": "2e88325a-c288-4c1a-bc4f-f65647409126",
   "metadata": {},
   "outputs": [
    {
     "data": {
      "image/png": "[encoded data removed]",
      "text/plain": [
       "<Figure size 700x500 with 1 Axes>"
      ]
     },
     "metadata": {},
     "output_type": "display_data"
    }
   ],
   "source": [
    "import pandas as pd\n",
    "import matplotlib.pyplot as plt\n",
    "\n",
    "# Count the number of occurrences for each marital status\n",
    "marital_counts = df['MaritalStatus'].value_counts()\n",
    "\n",
    "# Plot a donut chart\n",
    "plt.figure(figsize=(7, 5))\n",
    "plt.pie(marital_counts, labels=marital_counts.index, autopct='%1.1f%%',\n",
    "        startangle=90, wedgeprops={'width': 0.4}, colors=plt.cm.Set3.colors)\n",
    "\n",
    "plt.title(\"Distribution of Marital Status (Donut Chart)\")\n",
    "plt.show()\n"
   ]
  },
  {
   "cell_type": "markdown",
   "id": "88a3b291-169d-4341-8372-1e4e1990c773",
   "metadata": {},
   "source": [
    "#### **Explanation**"
   ]
  },
  {
   "cell_type": "markdown",
   "id": "527dae36-c50d-4fad-8514-7f39aff1a8b6",
   "metadata": {},
   "source": [
    "##### The donut chart above represents the distribution of individuals across different marital status categories in the dataset. Each slice indicates the proportion of records belonging to a specific marital group such as Single, Married, Divorced, etc.\n",
    "##### This visualization helps to quickly identify which marital status is most common among the entries."
   ]
  },
  {
   "cell_type": "markdown",
   "id": "cd7f5f2e-ff06-477a-88b6-5624a836c3b3",
   "metadata": {},
   "source": [
    "#### **Summary of the Dataset**"
   ]
  },
  {
   "cell_type": "markdown",
   "id": "13942da6-2c3c-4dcc-abf5-5e8b57356628",
   "metadata": {},
   "source": [
    "##### The dataset contains information about IBM employees, with a focus on factors influencing employee attrition.\n",
    "##### **Employee Demographics:**\n",
    "##### It includes details like age, marital status, education level, and the field of education.\n",
    "##### **Employment Details:**\n",
    "##### This section covers the department an employee works in, their monthly income, how many companies they have worked for, and their years with IBM.\n",
    "##### **Work-Life Factors:**\n",
    "##### It also captures aspects like job satisfaction, environment satisfaction, and commuting distance.\n",
    "##### In short, the dataset provides a summary of factors that help analyze and understand employee attrition at IBM."
   ]
  }
 ],
 "metadata": {
  "kernelspec": {
   "display_name": "Python [conda env:base] *",
   "language": "python",
   "name": "conda-base-py"
  },
  "language_info": {
   "codemirror_mode": {
    "name": "ipython",
    "version": 3
   },
   "file_extension": ".py",
   "mimetype": "text/x-python",
   "name": "python",
   "nbconvert_exporter": "python",
   "pygments_lexer": "ipython3",
   "version": "3.12.7"
  }
 },
 "nbformat": 4,
 "nbformat_minor": 5
}
